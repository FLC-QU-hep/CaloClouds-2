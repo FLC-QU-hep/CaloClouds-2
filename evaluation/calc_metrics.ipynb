{
 "cells": [
  {
   "cell_type": "code",
   "execution_count": 1,
   "metadata": {},
   "outputs": [],
   "source": [
    "import sys\n",
    "sys.path.append('../')\n",
    "\n",
    "import numpy as np\n",
    "import matplotlib.pyplot as plt\n",
    "import importlib\n",
    "import pickle\n",
    "from scipy.stats import wasserstein_distance\n",
    "\n",
    "import utils.metrics as metrics"
   ]
  },
  {
   "cell_type": "code",
   "execution_count": 2,
   "metadata": {},
   "outputs": [
    {
     "name": "stdout",
     "output_type": "stream",
     "text": [
      "dict_keys(['e_sum', 'hits', 'occ', 'hits_noThreshold', 'binned_layer_e', 'binned_radial_e', 'incident_energy', 'cog_x', 'cog_y', 'cog_z'])\n"
     ]
    }
   ],
   "source": [
    "pickle_path = 'BEEGFS/6_PointCloudDiffusion/output/metrics/'\n",
    "\n",
    "dict_real = pickle.load(open(pickle_path + 'merge_dict_10-90GeV_500000_g4.pickle', 'rb'))\n",
    "dict_ddpm = pickle.load(open(pickle_path + 'merge_dict_10-90GeV_500000_ddpm.pickle', 'rb'))\n",
    "dict_edm = pickle.load(open(pickle_path + 'merge_dict_10-90GeV_500000_edm.pickle', 'rb'))\n",
    "dict_cm = pickle.load(open(pickle_path + 'merge_dict_10-90GeV_500000_cm.pickle', 'rb'))\n",
    "\n",
    "print(dict_cm.keys())"
   ]
  },
  {
   "cell_type": "code",
   "execution_count": 3,
   "metadata": {},
   "outputs": [
    {
     "name": "stdout",
     "output_type": "stream",
     "text": [
      "(500000, 26)\n",
      "(1, 26)\n"
     ]
    }
   ],
   "source": [
    "# combine observables in a single array\n",
    "\n",
    "obs_real = metrics.get_event_observables_from_dict(dict_real)\n",
    "obs_ddpm = metrics.get_event_observables_from_dict(dict_ddpm)\n",
    "obs_edm = metrics.get_event_observables_from_dict(dict_edm)\n",
    "obs_cm = metrics.get_event_observables_from_dict(dict_cm)\n",
    "\n",
    "print(obs_real.shape)\n",
    "\n",
    "mean_real, std_real = np.mean(obs_real, axis=0).reshape(1,-1), np.std(obs_real, axis=0).reshape(1,-1)\n",
    "\n",
    "print(mean_real.shape)\n",
    "\n",
    "# shuffle the observables, since during generation they were ordered by number of clusters (in their respective chunks)\n",
    "np.random.seed(42)\n",
    "mask_ddpm = np.random.permutation(len(obs_ddpm))\n",
    "mask_edm = np.random.permutation(len(obs_edm))\n",
    "mask_cm = np.random.permutation(len(obs_cm))\n",
    "obs_ddpm = obs_ddpm[mask_ddpm]\n",
    "obs_edm = obs_edm[mask_edm]\n",
    "obs_cm = obs_cm[mask_cm]\n"
   ]
  },
  {
   "cell_type": "code",
   "execution_count": 4,
   "metadata": {},
   "outputs": [
    {
     "data": {
      "text/plain": [
       "array([1202.,  570., 1004.,  818.,  663.,  971.,  828.,  996., 1031.,\n",
       "        816.])"
      ]
     },
     "execution_count": 4,
     "metadata": {},
     "output_type": "execute_result"
    }
   ],
   "source": [
    "obs_ddpm[20000:20010, 3]"
   ]
  },
  {
   "cell_type": "code",
   "execution_count": 5,
   "metadata": {},
   "outputs": [],
   "source": [
    "# standardise the data\n",
    "def standardize(ary, mean, std):\n",
    "    return (ary - mean) / std\n",
    "\n",
    "obs_std_real = standardize(obs_real, mean=mean_real, std=std_real)\n",
    "obs_std_ddpm = standardize(obs_ddpm, mean=mean_real, std=std_real)\n",
    "obs_std_edm = standardize(obs_edm, mean=mean_real, std=std_real)\n",
    "obs_std_cm = standardize(obs_cm, mean=mean_real, std=std_real)"
   ]
  },
  {
   "cell_type": "code",
   "execution_count": 6,
   "metadata": {},
   "outputs": [
    {
     "name": "stdout",
     "output_type": "stream",
     "text": [
      "(500000, 25)\n"
     ]
    }
   ],
   "source": [
    "# array without hits\n",
    "obs_std_real_woutHits = np.concatenate([obs_std_real[:,0:5], obs_std_real[:,6:]], axis=1)\n",
    "obs_std_ddpm_woutHits = np.concatenate([obs_std_ddpm[:,0:5], obs_std_ddpm[:,6:]], axis=1)\n",
    "obs_std_edm_woutHits = np.concatenate([obs_std_edm[:,0:5], obs_std_edm[:,6:]], axis=1)\n",
    "obs_std_cm_woutHits = np.concatenate([obs_std_cm[:,0:5], obs_std_cm[:,6:]], axis=1)\n",
    "\n",
    "print(obs_std_real_woutHits.shape)"
   ]
  },
  {
   "cell_type": "code",
   "execution_count": 20,
   "metadata": {},
   "outputs": [],
   "source": [
    "# plot all features\n",
    "\n",
    "# for i in range(obs_std_real.shape[1]):\n",
    "#     h = plt.hist(obs_std_real[:,i], bins=50, alpha=0.5, label='g4')\n",
    "#     plt.hist(obs_std_ddpm[:,i], bins=h[1], label='ddpm', histtype='step')\n",
    "#     plt.hist(obs_std_edm[:,i], bins=h[1], label='edm', histtype='step')\n",
    "#     plt.hist(obs_std_cm[:,i], bins=h[1], label='cm', histtype='step')\n",
    "#     plt.legend(loc='best')\n",
    "#     plt.xlabel('feature {}'.format(i))\n",
    "#     plt.yscale('log')\n",
    "#     plt.show()"
   ]
  },
  {
   "cell_type": "code",
   "execution_count": 7,
   "metadata": {},
   "outputs": [
    {
     "name": "stdout",
     "output_type": "stream",
     "text": [
      "(26,)\n",
      "scores for ddpm: \n",
      "occ: 2.5 $\\pm$ 0.3\n",
      "sampling_fraction: 11.4 $\\pm$ 0.5\n",
      "hits: 15.9 $\\pm$ 0.7\n",
      "binned_layer_e: 2.0 $\\pm$ 1.4\n",
      "binned_radial_e: 38.8 $\\pm$ 1.4\n",
      "cog_x: 4.0 $\\pm$ 0.4\n",
      "cog_y: 8.7 $\\pm$ 0.3\n",
      "cog_z: 1.4 $\\pm$ 0.5\n"
     ]
    }
   ],
   "source": [
    "importlib.reload(metrics)\n",
    "\n",
    "means, stds = metrics.calc_wdist(obs_std_real, obs_std_ddpm, iterations=10, batch_size=50_000)\n",
    "means *= 100\n",
    "stds *= 100\n",
    "\n",
    "print(means.shape)\n",
    "\n",
    "print('scores for ddpm: ')\n",
    "print('occ: ' + str(means[3].round(1)) + ' $\\pm$ ' + str(stds[3].round(1)))\n",
    "print('sampling_fraction: ' + str(means[4].round(1)) + ' $\\pm$ ' + str(stds[4].round(1)))\n",
    "print('hits: ' + str(means[5].round(1)) + ' $\\pm$ ' + str(stds[5].round(1)))\n",
    "\n",
    "mean, std = metrics.combine_scores(means[6:16], stds[6:16])\n",
    "print('binned_layer_e: ' + str(mean.round(1)) + ' $\\pm$ ' + str(std.round(1)))\n",
    "\n",
    "mean, std = metrics.combine_scores(means[16:26], stds[16:26])\n",
    "print('binned_radial_e: ' + str(mean.round(1)) + ' $\\pm$ ' + str(std.round(1)))\n",
    "\n",
    "print('cog_x: ' + str(means[0].round(1)) + ' $\\pm$ ' + str(stds[0].round(1)))\n",
    "print('cog_y: ' + str(means[2].round(1)) + ' $\\pm$ ' + str(stds[2].round(1)))\n",
    "print('cog_z: ' + str(means[1].round(1)) + ' $\\pm$ ' + str(stds[1].round(1)))"
   ]
  },
  {
   "cell_type": "code",
   "execution_count": 22,
   "metadata": {},
   "outputs": [
    {
     "name": "stdout",
     "output_type": "stream",
     "text": [
      "(26,)\n",
      "scores for edm: \n",
      "occ: 3.6 $\\pm$ 0.5\n",
      "sampling_fraction: 26.4 $\\pm$ 0.4\n",
      "hits: 15.3 $\\pm$ 0.6\n",
      "binned_layer_e: 3.7 $\\pm$ 1.6\n",
      "binned_radial_e: 11.6 $\\pm$ 1.5\n",
      "cog_x: 2.4 $\\pm$ 0.4\n",
      "cog_y: 7.6 $\\pm$ 0.2\n",
      "cog_z: 3.9 $\\pm$ 0.4\n"
     ]
    }
   ],
   "source": [
    "means, stds = metrics.calc_wdist(obs_std_real, obs_std_edm, iterations=10, batch_size=50_000)\n",
    "means *= 100\n",
    "stds *= 100\n",
    "\n",
    "print(means.shape)\n",
    "\n",
    "print('scores for edm: ')\n",
    "print('occ: ' + str(means[3].round(1)) + ' $\\pm$ ' + str(stds[3].round(1)))\n",
    "print('sampling_fraction: ' + str(means[4].round(1)) + ' $\\pm$ ' + str(stds[4].round(1)))\n",
    "print('hits: ' + str(means[5].round(1)) + ' $\\pm$ ' + str(stds[5].round(1)))\n",
    "\n",
    "mean, std = metrics.combine_scores(means[6:16], stds[6:16])\n",
    "print('binned_layer_e: ' + str(mean.round(1)) + ' $\\pm$ ' + str(std.round(1)))\n",
    "\n",
    "mean, std = metrics.combine_scores(means[16:26], stds[16:26])\n",
    "print('binned_radial_e: ' + str(mean.round(1)) + ' $\\pm$ ' + str(std.round(1)))\n",
    "\n",
    "print('cog_x: ' + str(means[0].round(1)) + ' $\\pm$ ' + str(stds[0].round(1)))\n",
    "print('cog_y: ' + str(means[2].round(1)) + ' $\\pm$ ' + str(stds[2].round(1)))\n",
    "print('cog_z: ' + str(means[1].round(1)) + ' $\\pm$ ' + str(stds[1].round(1)))"
   ]
  },
  {
   "cell_type": "code",
   "execution_count": 23,
   "metadata": {},
   "outputs": [
    {
     "name": "stdout",
     "output_type": "stream",
     "text": [
      "(26,)\n",
      "scores for cm: \n",
      "occ: 6.1 $\\pm$ 0.7\n",
      "sampling_fraction: 9.8 $\\pm$ 0.5\n",
      "hits: 16.0 $\\pm$ 0.7\n",
      "binned_layer_e: 2.0 $\\pm$ 1.4\n",
      "binned_radial_e: 8.3 $\\pm$ 1.9\n",
      "cog_x: 3.0 $\\pm$ 0.4\n",
      "cog_y: 9.5 $\\pm$ 0.6\n",
      "cog_z: 1.2 $\\pm$ 0.5\n"
     ]
    }
   ],
   "source": [
    "means, stds = metrics.calc_wdist(obs_std_real, obs_std_cm, iterations=10, batch_size=50_000)\n",
    "means *= 100\n",
    "stds *= 100\n",
    "\n",
    "print(means.shape)\n",
    "\n",
    "print('scores for cm: ')\n",
    "print('occ: ' + str(means[3].round(1)) + ' $\\pm$ ' + str(stds[3].round(1)))\n",
    "print('sampling_fraction: ' + str(means[4].round(1)) + ' $\\pm$ ' + str(stds[4].round(1)))\n",
    "print('hits: ' + str(means[5].round(1)) + ' $\\pm$ ' + str(stds[5].round(1)))\n",
    "\n",
    "mean, std = metrics.combine_scores(means[6:16], stds[6:16])\n",
    "print('binned_layer_e: ' + str(mean.round(1)) + ' $\\pm$ ' + str(std.round(1)))\n",
    "\n",
    "mean, std = metrics.combine_scores(means[16:26], stds[16:26])\n",
    "print('binned_radial_e: ' + str(mean.round(1)) + ' $\\pm$ ' + str(std.round(1)))\n",
    "\n",
    "print('cog_x: ' + str(means[0].round(1)) + ' $\\pm$ ' + str(stds[0].round(1)))\n",
    "print('cog_y: ' + str(means[2].round(1)) + ' $\\pm$ ' + str(stds[2].round(1)))\n",
    "print('cog_z: ' + str(means[1].round(1)) + ' $\\pm$ ' + str(stds[1].round(1)))"
   ]
  },
  {
   "cell_type": "code",
   "execution_count": 24,
   "metadata": {},
   "outputs": [
    {
     "name": "stdout",
     "output_type": "stream",
     "text": [
      "(26,)\n",
      "scores for truth (Geant4 with itself reversed (so no event is paird with itself)): \n",
      "occ: 0.7 $\\pm$ 0.2\n",
      "sampling_fraction: 0.8 $\\pm$ 0.2\n",
      "hits: 0.9 $\\pm$ 0.4\n",
      "binned_layer_e: 0.7 $\\pm$ 0.8\n",
      "binned_radial_e: 0.7 $\\pm$ 0.6\n",
      "cog_x: 0.9 $\\pm$ 0.1\n",
      "cog_y: 1.1 $\\pm$ 0.3\n",
      "cog_z: 0.9 $\\pm$ 0.3\n"
     ]
    }
   ],
   "source": [
    "importlib.reload(metrics)\n",
    "means, stds = metrics.calc_wdist(obs_std_real, obs_std_real[::-1], iterations=10, batch_size=50_000)\n",
    "means *= 100\n",
    "stds *= 100\n",
    "\n",
    "print(means.shape)\n",
    "\n",
    "print('scores for truth (Geant4 with itself reversed (so no event is paird with itself)): ')\n",
    "print('occ: ' + str(means[3].round(1)) + ' $\\pm$ ' + str(stds[3].round(1)))\n",
    "print('sampling_fraction: ' + str(means[4].round(1)) + ' $\\pm$ ' + str(stds[4].round(1)))\n",
    "print('hits: ' + str(means[5].round(1)) + ' $\\pm$ ' + str(stds[5].round(1)))\n",
    "\n",
    "mean, std = metrics.combine_scores(means[6:16], stds[6:16])\n",
    "print('binned_layer_e: ' + str(mean.round(1)) + ' $\\pm$ ' + str(std.round(1)))\n",
    "\n",
    "mean, std = metrics.combine_scores(means[16:26], stds[16:26])\n",
    "print('binned_radial_e: ' + str(mean.round(1)) + ' $\\pm$ ' + str(std.round(1)))\n",
    "\n",
    "print('cog_x: ' + str(means[0].round(1)) + ' $\\pm$ ' + str(stds[0].round(1)))\n",
    "print('cog_y: ' + str(means[2].round(1)) + ' $\\pm$ ' + str(stds[2].round(1)))\n",
    "print('cog_z: ' + str(means[1].round(1)) + ' $\\pm$ ' + str(stds[1].round(1)))"
   ]
  },
  {
   "cell_type": "code",
   "execution_count": null,
   "metadata": {},
   "outputs": [],
   "source": []
  },
  {
   "cell_type": "code",
   "execution_count": null,
   "metadata": {},
   "outputs": [],
   "source": []
  }
 ],
 "metadata": {
  "kernelspec": {
   "display_name": "torch_113",
   "language": "python",
   "name": "python3"
  },
  "language_info": {
   "codemirror_mode": {
    "name": "ipython",
    "version": 3
   },
   "file_extension": ".py",
   "mimetype": "text/x-python",
   "name": "python",
   "nbconvert_exporter": "python",
   "pygments_lexer": "ipython3",
   "version": "3.8.13"
  },
  "orig_nbformat": 4
 },
 "nbformat": 4,
 "nbformat_minor": 2
}
